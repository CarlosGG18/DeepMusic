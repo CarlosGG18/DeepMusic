{
 "cells": [
  {
   "cell_type": "code",
   "execution_count": 1,
   "metadata": {},
   "outputs": [],
   "source": [
    "from miditoolkit.midi.parser import MidiFile\n",
    "\n",
    "from deepnote import MusicRepr, utils"
   ]
  },
  {
   "cell_type": "markdown",
   "metadata": {},
   "source": [
    "MidiFile object, which displays information about the MIDI file, including the ticks per beat, maximum tick value, tempo changes, time signature, key signature, markers, lyrics, and the number of instruments."
   ]
  },
  {
   "cell_type": "code",
   "execution_count": 9,
   "metadata": {},
   "outputs": [
    {
     "data": {
      "text/plain": [
       "ticks per beat: 384\n",
       "max tick: 245761\n",
       "tempo changes: 1\n",
       "time sig: 1\n",
       "key sig: 0\n",
       "markers: 0\n",
       "lyrics: False\n",
       "instruments: 26"
      ]
     },
     "execution_count": 9,
     "metadata": {},
     "output_type": "execute_result"
    }
   ],
   "source": [
    "midi = MidiFile('test.mid')\n",
    "midi\n"
   ]
  },
  {
   "cell_type": "code",
   "execution_count": 13,
   "metadata": {},
   "outputs": [
    {
     "data": {
      "text/plain": [
       "[Bar(position=0, tempo=197),\n",
       " Bar(position=0),\n",
       " Note(inst_family=bass, pitch=34, duration=8, velocity=100),\n",
       " Note(inst_family=percussive, pitch=62, duration=2, velocity=100),\n",
       " Note(inst_family=percussion, pitch=62, duration=2, velocity=100),\n",
       " Note(inst_family=percussion, pitch=62, duration=1, velocity=100),\n",
       " Note(inst_family=bass, pitch=34, duration=8, velocity=100),\n",
       " Beat(position=2),\n",
       " Note(inst_family=percussive, pitch=65, duration=2, velocity=100),\n",
       " Note(inst_family=percussion, pitch=65, duration=2, velocity=100),\n",
       " Note(inst_family=percussion, pitch=65, duration=1, velocity=100),\n",
       " Beat(position=4),\n",
       " Note(inst_family=percussive, pitch=70, duration=2, velocity=100),\n",
       " Note(inst_family=percussion, pitch=70, duration=2, velocity=100),\n",
       " Note(inst_family=percussion, pitch=70, duration=1, velocity=100),\n",
       " Beat(position=6),\n",
       " Note(inst_family=percussive, pitch=74, duration=4, velocity=100),\n",
       " Note(inst_family=percussion, pitch=70, duration=4, velocity=100),\n",
       " Note(inst_family=percussion, pitch=70, duration=4, velocity=100),\n",
       " Note(inst_family=percussion, pitch=74, duration=4, velocity=100)]"
      ]
     },
     "execution_count": 13,
     "metadata": {},
     "output_type": "execute_result"
    }
   ],
   "source": [
    "seq = MusicRepr.from_midi(midi, unit=4)\n",
    "seq[:20]"
   ]
  },
  {
   "cell_type": "markdown",
   "metadata": {},
   "source": [
    "A unit of 4 means that the time values in the resulting seq sequence are represented in increments of 1/4 of a beat. This allows for a more fine-grained representation of time in the music.\n",
    "Each note or event in the seq sequence will have a duration specified in units of 1/4 of a beat. For example, a duration of 8 would represent 2 beats (8 * 1/4), and a duration of 2 would represent half a beat (2 * 1/4).\n"
   ]
  },
  {
   "cell_type": "code",
   "execution_count": 15,
   "metadata": {},
   "outputs": [
    {
     "data": {
      "text/plain": [
       "[Marker(text=\"Chord_A#_M\", time=1536),\n",
       " Marker(text=\"Chord_D_+\", time=2304),\n",
       " Marker(text=\"Chord_C_m\", time=3072),\n",
       " Marker(text=\"Chord_D#_M\", time=3456),\n",
       " Marker(text=\"Chord_A#_M\", time=3840),\n",
       " Marker(text=\"Chord_D_m7\", time=6144),\n",
       " Marker(text=\"Chord_C_m7\", time=6528),\n",
       " Marker(text=\"Chord_A#_M\", time=6912),\n",
       " Marker(text=\"Chord_D_+\", time=8448),\n",
       " Marker(text=\"Chord_C_m\", time=9216)]"
      ]
     },
     "execution_count": 15,
     "metadata": {},
     "output_type": "execute_result"
    }
   ],
   "source": [
    "analyzed_midi = utils.analyze_midi(midi)\n",
    "analyzed_midi.markers[:10]"
   ]
  },
  {
   "cell_type": "code",
   "execution_count": 16,
   "metadata": {},
   "outputs": [
    {
     "data": {
      "text/plain": [
       "[Bar(position=0, tempo=197),\n",
       " Bar(position=0, chord=A#_M),\n",
       " Note(inst_family=bass, pitch=34, duration=8, velocity=100),\n",
       " Note(inst_family=percussive, pitch=62, duration=2, velocity=100),\n",
       " Note(inst_family=percussion, pitch=62, duration=2, velocity=100),\n",
       " Note(inst_family=percussion, pitch=62, duration=1, velocity=100),\n",
       " Note(inst_family=bass, pitch=34, duration=8, velocity=100),\n",
       " Beat(position=2),\n",
       " Note(inst_family=percussive, pitch=65, duration=2, velocity=100),\n",
       " Note(inst_family=percussion, pitch=65, duration=2, velocity=100),\n",
       " Note(inst_family=percussion, pitch=65, duration=1, velocity=100),\n",
       " Beat(position=4),\n",
       " Note(inst_family=percussive, pitch=70, duration=2, velocity=100),\n",
       " Note(inst_family=percussion, pitch=70, duration=2, velocity=100),\n",
       " Note(inst_family=percussion, pitch=70, duration=1, velocity=100),\n",
       " Beat(position=6),\n",
       " Note(inst_family=percussive, pitch=74, duration=4, velocity=100),\n",
       " Note(inst_family=percussion, pitch=70, duration=4, velocity=100),\n",
       " Note(inst_family=percussion, pitch=70, duration=4, velocity=100),\n",
       " Note(inst_family=percussion, pitch=74, duration=4, velocity=100)]"
      ]
     },
     "execution_count": 16,
     "metadata": {},
     "output_type": "execute_result"
    }
   ],
   "source": [
    "seq_t = MusicRepr.from_midi(analyzed_midi, unit = 4)\n",
    "seq_t[:20]"
   ]
  },
  {
   "cell_type": "code",
   "execution_count": null,
   "metadata": {},
   "outputs": [],
   "source": []
  },
  {
   "cell_type": "markdown",
   "metadata": {},
   "source": [
    "Quantization is a process in music production and MIDI editing that aligns the timing of note events to a grid or specific time divisions. It helps to create a more structured and precise rhythm in the music. By specifying a quantization unit, you determine the level of granularity or precision in the resulting quantized MIDI file."
   ]
  },
  {
   "cell_type": "code",
   "execution_count": null,
   "metadata": {},
   "outputs": [],
   "source": []
  }
 ],
 "metadata": {
  "kernelspec": {
   "display_name": "base",
   "language": "python",
   "name": "python3"
  },
  "language_info": {
   "codemirror_mode": {
    "name": "ipython",
    "version": 3
   },
   "file_extension": ".py",
   "mimetype": "text/x-python",
   "name": "python",
   "nbconvert_exporter": "python",
   "pygments_lexer": "ipython3",
   "version": "3.9.13"
  },
  "orig_nbformat": 4
 },
 "nbformat": 4,
 "nbformat_minor": 2
}
